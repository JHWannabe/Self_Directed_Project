{
  "cells": [
    {
      "cell_type": "markdown",
      "metadata": {
        "id": "view-in-github",
        "colab_type": "text"
      },
      "source": [
        "<a href=\"https://colab.research.google.com/github/JHWannabe/Self_Directed_Project/blob/main/Exercise_to_GAN.ipynb\" target=\"_parent\"><img src=\"https://colab.research.google.com/assets/colab-badge.svg\" alt=\"Open In Colab\"/></a>"
      ]
    },
    {
      "cell_type": "code",
      "execution_count": null,
      "metadata": {
        "id": "d77MxKQaPmmG"
      },
      "outputs": [],
      "source": [
        "import keras\n",
        "from keras.layers import Dense, Conv2DTranspose, LeakyReLU, Reshape, BatchNormalization, Activation, Conv2D\n",
        "from keras.models import Model, Sequential"
      ]
    },
    {
      "cell_type": "code",
      "execution_count": null,
      "metadata": {
        "colab": {
          "base_uri": "https://localhost:8080/"
        },
        "id": "iEAn9NoVKQNU",
        "outputId": "5034c415-4b02-4abd-d751-6608d665d57c"
      },
      "outputs": [
        {
          "output_type": "stream",
          "name": "stdout",
          "text": [
            "Model: \"sequential\"\n",
            "_________________________________________________________________\n",
            " Layer (type)                Output Shape              Param #   \n",
            "=================================================================\n",
            " dense (Dense)               (None, 4096)              413696    \n",
            "                                                                 \n",
            " leaky_re_lu (LeakyReLU)     (None, 4096)              0         \n",
            "                                                                 \n",
            " reshape (Reshape)           (None, 4, 4, 256)         0         \n",
            "                                                                 \n",
            " conv2d_transpose (Conv2DTra  (None, 8, 8, 128)        295040    \n",
            " nspose)                                                         \n",
            "                                                                 \n",
            " leaky_re_lu_1 (LeakyReLU)   (None, 8, 8, 128)         0         \n",
            "                                                                 \n",
            " conv2d_transpose_1 (Conv2DT  (None, 16, 16, 128)      147584    \n",
            " ranspose)                                                       \n",
            "                                                                 \n",
            " leaky_re_lu_2 (LeakyReLU)   (None, 16, 16, 128)       0         \n",
            "                                                                 \n",
            " conv2d_transpose_2 (Conv2DT  (None, 32, 32, 128)      147584    \n",
            " ranspose)                                                       \n",
            "                                                                 \n",
            " leaky_re_lu_3 (LeakyReLU)   (None, 32, 32, 128)       0         \n",
            "                                                                 \n",
            " conv2d (Conv2D)             (None, 32, 32, 3)         3459      \n",
            "                                                                 \n",
            "=================================================================\n",
            "Total params: 1,007,363\n",
            "Trainable params: 1,007,363\n",
            "Non-trainable params: 0\n",
            "_________________________________________________________________\n"
          ]
        }
      ],
      "source": [
        "def generador_de_imagenes():\n",
        "\n",
        "    generador = Sequential()\n",
        "\n",
        "    generador.add(Dense(256*4*4, input_shape = (100,)))\n",
        "    #generador.add(BatchNormalization())\n",
        "    generador.add(LeakyReLU())\n",
        "    generador.add(Reshape((4,4,256)))\n",
        "\n",
        "    generador.add(Conv2DTranspose(128,kernel_size=3, strides=2, padding = \"same\"))\n",
        "    #generador.add(BatchNormalization())\n",
        "    generador.add(LeakyReLU(alpha=0.2))\n",
        "\n",
        "\n",
        "    generador.add(Conv2DTranspose(128,kernel_size=3, strides=2, padding = \"same\"))\n",
        "    #generador.add(BatchNormalization())\n",
        "    generador.add(LeakyReLU(alpha=0.2))\n",
        "\n",
        "    generador.add(Conv2DTranspose(128,kernel_size=3, strides=2, padding = \"same\"))\n",
        "    #generador.add(BatchNormalization())\n",
        "    generador.add(LeakyReLU(alpha=0.2))\n",
        "\n",
        "    generador.add(Conv2D(3,kernel_size=3, padding = \"same\", activation='tanh'))\n",
        "\n",
        "    return(generador)\n",
        "\n",
        "modelo_generador = generador_de_imagenes()\n",
        "\n",
        "modelo_generador.summary()"
      ]
    },
    {
      "cell_type": "markdown",
      "metadata": {
        "id": "QlbzySw8KZGa"
      },
      "source": [
        "Checking if the generative network works"
      ]
    },
    {
      "cell_type": "code",
      "execution_count": null,
      "metadata": {
        "colab": {
          "base_uri": "https://localhost:8080/",
          "height": 321
        },
        "id": "6eBFRHYDKTzB",
        "outputId": "e0edf54c-50c8-45a9-e24e-66b08658aa92"
      },
      "outputs": [
        {
          "output_type": "stream",
          "name": "stderr",
          "text": [
            "WARNING:matplotlib.image:Clipping input data to the valid range for imshow with RGB data ([0..1] for floats or [0..255] for integers).\n",
            "WARNING:matplotlib.image:Clipping input data to the valid range for imshow with RGB data ([0..1] for floats or [0..255] for integers).\n",
            "WARNING:matplotlib.image:Clipping input data to the valid range for imshow with RGB data ([0..1] for floats or [0..255] for integers).\n",
            "WARNING:matplotlib.image:Clipping input data to the valid range for imshow with RGB data ([0..1] for floats or [0..255] for integers).\n"
          ]
        },
        {
          "output_type": "display_data",
          "data": {
            "text/plain": [
              "<Figure size 432x288 with 4 Axes>"
            ],
            "image/png": "[encoded data removed]"
          },
          "metadata": {
            "needs_background": "light"
          }
        }
      ],
      "source": [
        "import matplotlib.pyplot as plt\n",
        "import numpy as np\n",
        "\n",
        "# Definir datos de entrada\n",
        "def generar_datos_entrada(n_muestras):\n",
        "  X = np.random.randn(100 * n_muestras)\n",
        "  X = X.reshape(n_muestras, 100)\n",
        "  return X\n",
        "\n",
        "def crear_datos_fake(modelo_generador, n_muestras):\n",
        "  input = generar_datos_entrada(n_muestras)\n",
        "  X = modelo_generador.predict(input)\n",
        "  y = np.zeros((n_muestras, 1))\n",
        "  return X,y\n",
        "\n",
        "numero_muestras = 4\n",
        "X,_ = crear_datos_fake(modelo_generador, numero_muestras)\n",
        "\n",
        "# Visualizamos resultados\n",
        "for i in range(numero_muestras):\n",
        "    plt.subplot(2, 2, 1 + i)\n",
        "    plt.axis('off')\n",
        "    plt.imshow(X[i])\n"
      ]
    },
    {
      "cell_type": "markdown",
      "metadata": {
        "id": "UPjdFoaHKi36"
      },
      "source": [
        "Code the discriminator network  \n",
        "Structure of the discriminator network"
      ]
    },
    {
      "cell_type": "code",
      "execution_count": null,
      "metadata": {
        "colab": {
          "base_uri": "https://localhost:8080/"
        },
        "id": "PckQFn4WKdhp",
        "outputId": "7aa20ee3-8e00-4fba-a143-92b69ce19696"
      },
      "outputs": [
        {
          "output_type": "stream",
          "name": "stderr",
          "text": [
            "/usr/local/lib/python3.7/dist-packages/keras/optimizer_v2/adam.py:105: UserWarning: The `lr` argument is deprecated, use `learning_rate` instead.\n",
            "  super(Adam, self).__init__(name, **kwargs)\n"
          ]
        },
        {
          "output_type": "stream",
          "name": "stdout",
          "text": [
            "Model: \"sequential_1\"\n",
            "_________________________________________________________________\n",
            " Layer (type)                Output Shape              Param #   \n",
            "=================================================================\n",
            " conv2d_1 (Conv2D)           (None, 32, 32, 64)        1792      \n",
            "                                                                 \n",
            " leaky_re_lu_4 (LeakyReLU)   (None, 32, 32, 64)        0         \n",
            "                                                                 \n",
            " conv2d_2 (Conv2D)           (None, 16, 16, 128)       73856     \n",
            "                                                                 \n",
            " leaky_re_lu_5 (LeakyReLU)   (None, 16, 16, 128)       0         \n",
            "                                                                 \n",
            " conv2d_3 (Conv2D)           (None, 8, 8, 128)         147584    \n",
            "                                                                 \n",
            " leaky_re_lu_6 (LeakyReLU)   (None, 8, 8, 128)         0         \n",
            "                                                                 \n",
            " conv2d_4 (Conv2D)           (None, 4, 4, 256)         295168    \n",
            "                                                                 \n",
            " leaky_re_lu_7 (LeakyReLU)   (None, 4, 4, 256)         0         \n",
            "                                                                 \n",
            " flatten (Flatten)           (None, 4096)              0         \n",
            "                                                                 \n",
            " dropout (Dropout)           (None, 4096)              0         \n",
            "                                                                 \n",
            " dense_1 (Dense)             (None, 1)                 4097      \n",
            "                                                                 \n",
            "=================================================================\n",
            "Total params: 522,497\n",
            "Trainable params: 522,497\n",
            "Non-trainable params: 0\n",
            "_________________________________________________________________\n"
          ]
        }
      ],
      "source": [
        "from keras.layers import Conv2D, Flatten, Dropout\n",
        "from tensorflow.keras.optimizers import Adam\n",
        "\n",
        "def discriminador_de_imagenes():\n",
        "\n",
        "    discriminador = Sequential()\n",
        "    discriminador.add(Conv2D(64, kernel_size=3, padding = \"same\", input_shape = (32,32,3)))\n",
        "    discriminador.add(LeakyReLU(alpha=0.2))\n",
        "    #discriminador.add(Dropout(0.2))\n",
        "\n",
        "    discriminador.add(Conv2D(128, kernel_size=3,strides=(2,2), padding = \"same\"))\n",
        "    discriminador.add(LeakyReLU(alpha=0.2))\n",
        "    #discriminador.add(Dropout(0.2))\n",
        "\n",
        "    discriminador.add(Conv2D(128, kernel_size=3,strides=(2,2), padding = \"same\"))\n",
        "    discriminador.add(LeakyReLU(alpha=0.2))\n",
        "    #discriminador.add(Dropout(0.2))\n",
        "\n",
        "    discriminador.add(Conv2D(256, kernel_size=3, strides=(2,2), padding = \"same\"))\n",
        "    discriminador.add(LeakyReLU(alpha=0.2))\n",
        "    #discriminador.add(Dropout(0.2))\n",
        "\n",
        "    discriminador.add(Flatten())\n",
        "    discriminador.add(Dropout(0.4))\n",
        "    discriminador.add(Dense(1, activation='sigmoid'))\n",
        "\n",
        "    opt = Adam(lr=0.0002 ,beta_1=0.5)\n",
        "    discriminador.compile(loss='binary_crossentropy', optimizer= opt , metrics = ['accuracy'])\n",
        "\n",
        "    return(discriminador)\n",
        "\n",
        "modelo_discriminador = discriminador_de_imagenes()\n",
        "modelo_discriminador.summary()"
      ]
    },
    {
      "cell_type": "markdown",
      "metadata": {
        "id": "ZO0diR31K7UO"
      },
      "source": [
        "Last steps to create a GAN in Python  \n",
        "Load data from Cifar10"
      ]
    },
    {
      "cell_type": "code",
      "execution_count": null,
      "metadata": {
        "colab": {
          "base_uri": "https://localhost:8080/"
        },
        "id": "aUUcCrwdKogC",
        "outputId": "9f32950d-4da8-46ce-fd7a-5b26b9d9d9db"
      },
      "outputs": [
        {
          "output_type": "stream",
          "name": "stdout",
          "text": [
            "Downloading data from https://www.cs.toronto.edu/~kriz/cifar-10-python.tar.gz\n",
            "170500096/170498071 [==============================] - 13s 0us/step\n",
            "170508288/170498071 [==============================] - 13s 0us/step\n",
            "(5000, 32, 32, 3)\n"
          ]
        }
      ],
      "source": [
        "from keras.datasets import cifar10\n",
        "\n",
        "def cargar_imagenes():\n",
        "    (Xtrain, Ytrain), (_, _) = cifar10.load_data()\n",
        "\n",
        "    # Nos quedamos con los perros\n",
        "    indice = np.where(Ytrain == 0)\n",
        "    indice = indice[0]\n",
        "    Xtrain = Xtrain[indice, :,:,:]\n",
        "\n",
        "    # Normalizamos los datos\n",
        "    X = Xtrain.astype('float32')\n",
        "    X = (X - 127.5) / 127.5\n",
        "\n",
        "    return X\n",
        "\n",
        "print(cargar_imagenes().shape)"
      ]
    },
    {
      "cell_type": "markdown",
      "metadata": {
        "id": "jc3hsltnLCP2"
      },
      "source": [
        "Training the discriminator network"
      ]
    },
    {
      "cell_type": "code",
      "execution_count": null,
      "metadata": {
        "id": "mIpjvpHGK_Fi"
      },
      "outputs": [],
      "source": [
        "import random\n",
        "\n",
        "def cargar_datos_reales(dataset, n_muestras):\n",
        "  ix = np.random.randint(0, dataset.shape[0], n_muestras)\n",
        "  X = dataset[ix]\n",
        "  y = np.ones((n_muestras, 1))\n",
        "  return X,y\n",
        "\n",
        "def cargar_datos_fake(n_muestras):\n",
        "  X = np.random.rand(32 * 32 * 3 * n_muestras)\n",
        "  X = -1 + X * 2\n",
        "  X = X.reshape((n_muestras, 32,32,3))\n",
        "  y = np.zeros((n_muestras, 1))\n",
        "  return X,y"
      ]
    },
    {
      "cell_type": "code",
      "execution_count": null,
      "metadata": {
        "id": "Fjg3sAuCLEiq"
      },
      "outputs": [],
      "source": [
        "def entrenar_discriminador(modelo, dataset, n_iteraciones=20, batch = 128):\n",
        "  medio_batch = int(batch/2)\n",
        "\n",
        "  for i in range(n_iteraciones):\n",
        "    X_real, y_real = cargar_datos_reales(dataset, medio_batch)\n",
        "    _, acc_real = modelo.train_on_batch(X_real, y_real)\n",
        "\n",
        "    X_fake, y_fake = cargar_datos_fake(medio_batch)\n",
        "    _, acc_fake = modelo.train_on_batch(X_fake, y_fake)\n",
        "\n",
        "    print(str(i+1) + ' Real:' + str(acc_real*100) + ', Fake:' + str(acc_fake*100))"
      ]
    },
    {
      "cell_type": "code",
      "execution_count": null,
      "metadata": {
        "colab": {
          "base_uri": "https://localhost:8080/"
        },
        "id": "xiL-xGqwLHkC",
        "outputId": "f69708c2-4f57-4c2b-e386-ab61f296e5f7"
      },
      "outputs": [
        {
          "output_type": "stream",
          "name": "stdout",
          "text": [
            "1 Real:75.0, Fake:0.0\n",
            "2 Real:100.0, Fake:6.25\n",
            "3 Real:93.75, Fake:21.875\n",
            "4 Real:92.1875, Fake:54.6875\n",
            "5 Real:87.5, Fake:89.0625\n",
            "6 Real:92.1875, Fake:98.4375\n",
            "7 Real:90.625, Fake:100.0\n",
            "8 Real:89.0625, Fake:100.0\n",
            "9 Real:81.25, Fake:100.0\n",
            "10 Real:79.6875, Fake:100.0\n",
            "11 Real:93.75, Fake:100.0\n",
            "12 Real:89.0625, Fake:100.0\n",
            "13 Real:90.625, Fake:100.0\n",
            "14 Real:96.875, Fake:100.0\n",
            "15 Real:98.4375, Fake:100.0\n",
            "16 Real:100.0, Fake:100.0\n",
            "17 Real:98.4375, Fake:100.0\n",
            "18 Real:93.75, Fake:100.0\n",
            "19 Real:100.0, Fake:100.0\n",
            "20 Real:100.0, Fake:100.0\n"
          ]
        }
      ],
      "source": [
        "dataset = cargar_imagenes()\n",
        "entrenar_discriminador(modelo_discriminador, dataset)"
      ]
    },
    {
      "cell_type": "markdown",
      "metadata": {
        "id": "a4JYJ_15LOmP"
      },
      "source": [
        "Coding our generative adversarial network"
      ]
    },
    {
      "cell_type": "code",
      "execution_count": null,
      "metadata": {
        "colab": {
          "base_uri": "https://localhost:8080/"
        },
        "id": "ZnIJeZYwLKny",
        "outputId": "68583586-7616-4e25-f182-7b354443d65a"
      },
      "outputs": [
        {
          "output_type": "stream",
          "name": "stdout",
          "text": [
            "Model: \"sequential_2\"\n",
            "_________________________________________________________________\n",
            " Layer (type)                Output Shape              Param #   \n",
            "=================================================================\n",
            " sequential (Sequential)     (None, 32, 32, 3)         1007363   \n",
            "                                                                 \n",
            " sequential_1 (Sequential)   (None, 1)                 522497    \n",
            "                                                                 \n",
            "=================================================================\n",
            "Total params: 1,529,860\n",
            "Trainable params: 1,007,363\n",
            "Non-trainable params: 522,497\n",
            "_________________________________________________________________\n"
          ]
        }
      ],
      "source": [
        "def crear_gan(discriminador, generador):\n",
        "    discriminador.trainable=False\n",
        "    gan = Sequential()\n",
        "    gan.add(generador)\n",
        "    gan.add(discriminador)\n",
        "\n",
        "    opt = Adam(lr=0.0002,beta_1=0.5) \n",
        "    gan.compile(loss = \"binary_crossentropy\", optimizer = opt)\n",
        "\n",
        "    return gan\n",
        "\n",
        "gan = crear_gan(modelo_discriminador,modelo_generador)\n",
        "gan.summary()"
      ]
    },
    {
      "cell_type": "markdown",
      "metadata": {
        "id": "D2tnLiXzLVG-"
      },
      "source": [
        "Model evaluation and image generation functions"
      ]
    },
    {
      "cell_type": "code",
      "execution_count": null,
      "metadata": {
        "id": "oDDLt9k6LTQK"
      },
      "outputs": [],
      "source": [
        "import pandas as pd\n",
        "import matplotlib.pyplot as plt\n",
        "%matplotlib inline\n",
        "from datetime import datetime\n",
        "\n",
        "def mostrar_imagenes_generadas(datos_fake, epoch):\n",
        "\n",
        "  now = datetime.now()\n",
        "  now = now.strftime(\"%Y%m%d_%H%M%S\")\n",
        "\n",
        "  # Hacemos que los datos vayan de 0 a 1\n",
        "  datos_fake = (datos_fake + 1) / 2.0\n",
        "\n",
        "  for i in range(10):\n",
        "    plt.imshow(datos_fake[i])\n",
        "    plt.axis('off')\n",
        "    nombre = str(epoch) + '_imagen_generada_' + str(i) + '.png'\n",
        "    plt.savefig(nombre, bbox_inches='tight')\n",
        "    plt.close()"
      ]
    },
    {
      "cell_type": "code",
      "execution_count": null,
      "metadata": {
        "id": "MjRC3bd9LYE7"
      },
      "outputs": [],
      "source": [
        "def evaluar_y_guardar(modelo_generador, epoch, medio_dataset):\n",
        "\n",
        "  # We save the model\n",
        "  now = datetime.now()\n",
        "  now = now.strftime(\"%Y%m%d_%H%M%S\")\n",
        "  nombre = str(epoch) + '_' + str(now)+\"_modelo_generador_\" + '.h5'\n",
        "  modelo_generador.save(nombre)\n",
        "\n",
        "  # We generate new data\n",
        "  X_real,Y_real = cargar_datos_reales(dataset, medio_dataset)\n",
        "  X_fake, Y_fake =  crear_datos_fake(modelo_generador,medio_dataset)\n",
        "\n",
        "  # We evaluate the model\n",
        "  _, acc_real = modelo_discriminador.evaluate(X_real, Y_real)\n",
        "  _, acc_fake = modelo_discriminador.evaluate(X_fake, Y_fake)\n",
        "\n",
        "  print('Acc Real:' + str(acc_real*100) + '% Acc Fake:' + str(acc_fake*100)+'%')"
      ]
    },
    {
      "cell_type": "code",
      "execution_count": null,
      "metadata": {
        "id": "DYTTrChmLaXS"
      },
      "outputs": [],
      "source": [
        "def entrenamiento(datos, modelo_generador, modelo_discriminador, epochs, n_batch, inicio = 0):\n",
        "  dimension_batch = int(datos.shape[0]/n_batch)\n",
        "  medio_dataset = int(n_batch/2)\n",
        "\n",
        "  # We iterate over the epochs\n",
        "  for epoch in range(inicio, inicio + epochs):\n",
        "    # We iterate over all batches\n",
        "    for batch in range(n_batch):\n",
        "\n",
        "      # We load all the real data\n",
        "      X_real,Y_real = cargar_datos_reales(dataset, medio_dataset)\n",
        "\n",
        "\n",
        "      # We train the discriminator withEnrenamos discriminador con datos reales\n",
        "      coste_discriminador_real, _ = modelo_discriminador.train_on_batch(X_real, Y_real)\n",
        "      X_fake, Y_fake =  crear_datos_fake(modelo_generador,medio_dataset)\n",
        "\n",
        "      coste_discriminador_fake, _ = modelo_discriminador.train_on_batch(X_fake, Y_fake)\n",
        "\n",
        "      # We generate input images for the GAN\n",
        "      X_gan = generar_datos_entrada(medio_dataset)\n",
        "      Y_gan = np.ones((medio_dataset, 1))\n",
        "\n",
        "      # We train the GAN with fake data\n",
        "      coste_gan = gan.train_on_batch(X_gan, Y_gan)\n",
        "\n",
        "    # Every 10 epochs we show the results and cost \n",
        "    if (epoch+1) % 10 == 0:\n",
        "      evaluar_y_guardar(modelo_generador,epoch = epoch, medio_dataset= medio_dataset)\n",
        "      mostrar_imagenes_generadas(X_fake, epoch = epoch)"
      ]
    },
    {
      "cell_type": "code",
      "execution_count": null,
      "metadata": {
        "colab": {
          "base_uri": "https://localhost:8080/",
          "height": 1000
        },
        "id": "NyiSiGvuLc4R",
        "outputId": "38795165-4fa4-44e1-a190-b177897918f2"
      },
      "outputs": [
        {
          "output_type": "stream",
          "name": "stderr",
          "text": [
            "WARNING:tensorflow:Compiled the loaded model, but the compiled metrics have yet to be built. `model.compile_metrics` will be empty until you train or evaluate the model.\n"
          ]
        },
        {
          "output_type": "stream",
          "name": "stdout",
          "text": [
            "2/2 [==============================] - 0s 7ms/step - loss: 0.4033 - accuracy: 0.7812\n",
            "2/2 [==============================] - 0s 7ms/step - loss: 0.5115 - accuracy: 0.8594\n",
            "Acc Real:78.125% Acc Fake:85.9375%\n"
          ]
        },
        {
          "output_type": "stream",
          "name": "stderr",
          "text": [
            "WARNING:tensorflow:Compiled the loaded model, but the compiled metrics have yet to be built. `model.compile_metrics` will be empty until you train or evaluate the model.\n"
          ]
        },
        {
          "output_type": "stream",
          "name": "stdout",
          "text": [
            "2/2 [==============================] - 0s 7ms/step - loss: 0.5612 - accuracy: 0.6562\n",
            "2/2 [==============================] - 0s 7ms/step - loss: 0.4617 - accuracy: 0.8906\n",
            "Acc Real:65.625% Acc Fake:89.0625%\n"
          ]
        },
        {
          "output_type": "stream",
          "name": "stderr",
          "text": [
            "WARNING:tensorflow:Compiled the loaded model, but the compiled metrics have yet to be built. `model.compile_metrics` will be empty until you train or evaluate the model.\n"
          ]
        },
        {
          "output_type": "stream",
          "name": "stdout",
          "text": [
            "2/2 [==============================] - 0s 7ms/step - loss: 0.5884 - accuracy: 0.5938\n",
            "2/2 [==============================] - 0s 7ms/step - loss: 0.4748 - accuracy: 0.8906\n",
            "Acc Real:59.375% Acc Fake:89.0625%\n"
          ]
        },
        {
          "output_type": "stream",
          "name": "stderr",
          "text": [
            "WARNING:tensorflow:Compiled the loaded model, but the compiled metrics have yet to be built. `model.compile_metrics` will be empty until you train or evaluate the model.\n"
          ]
        },
        {
          "output_type": "stream",
          "name": "stdout",
          "text": [
            "2/2 [==============================] - 0s 7ms/step - loss: 0.5439 - accuracy: 0.6562\n",
            "2/2 [==============================] - 0s 7ms/step - loss: 0.5651 - accuracy: 0.8125\n",
            "Acc Real:65.625% Acc Fake:81.25%\n"
          ]
        },
        {
          "output_type": "stream",
          "name": "stderr",
          "text": [
            "WARNING:tensorflow:Compiled the loaded model, but the compiled metrics have yet to be built. `model.compile_metrics` will be empty until you train or evaluate the model.\n"
          ]
        },
        {
          "output_type": "stream",
          "name": "stdout",
          "text": [
            "2/2 [==============================] - 0s 8ms/step - loss: 0.4897 - accuracy: 0.7031\n",
            "2/2 [==============================] - 0s 8ms/step - loss: 0.4855 - accuracy: 0.8438\n",
            "Acc Real:70.3125% Acc Fake:84.375%\n"
          ]
        },
        {
          "output_type": "stream",
          "name": "stderr",
          "text": [
            "WARNING:tensorflow:Compiled the loaded model, but the compiled metrics have yet to be built. `model.compile_metrics` will be empty until you train or evaluate the model.\n"
          ]
        },
        {
          "output_type": "stream",
          "name": "stdout",
          "text": [
            "2/2 [==============================] - 0s 7ms/step - loss: 0.4443 - accuracy: 0.7344\n",
            "2/2 [==============================] - 0s 7ms/step - loss: 0.4247 - accuracy: 0.8906\n",
            "Acc Real:73.4375% Acc Fake:89.0625%\n"
          ]
        },
        {
          "output_type": "stream",
          "name": "stderr",
          "text": [
            "WARNING:tensorflow:Compiled the loaded model, but the compiled metrics have yet to be built. `model.compile_metrics` will be empty until you train or evaluate the model.\n"
          ]
        },
        {
          "output_type": "stream",
          "name": "stdout",
          "text": [
            "2/2 [==============================] - 0s 8ms/step - loss: 0.5202 - accuracy: 0.7500\n",
            "2/2 [==============================] - 0s 9ms/step - loss: 0.4210 - accuracy: 0.8906\n",
            "Acc Real:75.0% Acc Fake:89.0625%\n"
          ]
        },
        {
          "output_type": "stream",
          "name": "stderr",
          "text": [
            "WARNING:tensorflow:Compiled the loaded model, but the compiled metrics have yet to be built. `model.compile_metrics` will be empty until you train or evaluate the model.\n"
          ]
        },
        {
          "output_type": "stream",
          "name": "stdout",
          "text": [
            "2/2 [==============================] - 0s 7ms/step - loss: 0.3928 - accuracy: 0.8594\n",
            "2/2 [==============================] - 0s 7ms/step - loss: 0.4216 - accuracy: 0.9375\n",
            "Acc Real:85.9375% Acc Fake:93.75%\n"
          ]
        },
        {
          "output_type": "stream",
          "name": "stderr",
          "text": [
            "WARNING:tensorflow:Compiled the loaded model, but the compiled metrics have yet to be built. `model.compile_metrics` will be empty until you train or evaluate the model.\n"
          ]
        },
        {
          "output_type": "stream",
          "name": "stdout",
          "text": [
            "2/2 [==============================] - 0s 7ms/step - loss: 0.3845 - accuracy: 0.8906\n",
            "2/2 [==============================] - 0s 7ms/step - loss: 0.3720 - accuracy: 0.9062\n",
            "Acc Real:89.0625% Acc Fake:90.625%\n"
          ]
        },
        {
          "output_type": "stream",
          "name": "stderr",
          "text": [
            "WARNING:tensorflow:Compiled the loaded model, but the compiled metrics have yet to be built. `model.compile_metrics` will be empty until you train or evaluate the model.\n"
          ]
        },
        {
          "output_type": "stream",
          "name": "stdout",
          "text": [
            "2/2 [==============================] - 0s 8ms/step - loss: 0.4978 - accuracy: 0.7344\n",
            "2/2 [==============================] - 0s 7ms/step - loss: 0.2362 - accuracy: 0.9844\n",
            "Acc Real:73.4375% Acc Fake:98.4375%\n"
          ]
        },
        {
          "output_type": "error",
          "ename": "KeyboardInterrupt",
          "evalue": "ignored",
          "traceback": [
            "\u001b[0;31m---------------------------------------------------------------------------\u001b[0m",
            "\u001b[0;31mKeyboardInterrupt\u001b[0m                         Traceback (most recent call last)",
            "\u001b[0;32m<ipython-input-13-7323564289fb>\u001b[0m in \u001b[0;36m<module>\u001b[0;34m\u001b[0m\n\u001b[0;32m----> 1\u001b[0;31m \u001b[0mentrenamiento\u001b[0m\u001b[0;34m(\u001b[0m\u001b[0mdataset\u001b[0m\u001b[0;34m,\u001b[0m \u001b[0mmodelo_generador\u001b[0m\u001b[0;34m,\u001b[0m \u001b[0mmodelo_discriminador\u001b[0m\u001b[0;34m,\u001b[0m \u001b[0mepochs\u001b[0m \u001b[0;34m=\u001b[0m \u001b[0;36m300\u001b[0m\u001b[0;34m,\u001b[0m \u001b[0mn_batch\u001b[0m\u001b[0;34m=\u001b[0m\u001b[0;36m128\u001b[0m\u001b[0;34m,\u001b[0m \u001b[0minicio\u001b[0m \u001b[0;34m=\u001b[0m \u001b[0;36m0\u001b[0m\u001b[0;34m)\u001b[0m\u001b[0;34m\u001b[0m\u001b[0;34m\u001b[0m\u001b[0m\n\u001b[0m",
            "\u001b[0;32m<ipython-input-12-8c0bbc63685a>\u001b[0m in \u001b[0;36mentrenamiento\u001b[0;34m(datos, modelo_generador, modelo_discriminador, epochs, n_batch, inicio)\u001b[0m\n\u001b[1;32m     16\u001b[0m       \u001b[0mX_fake\u001b[0m\u001b[0;34m,\u001b[0m \u001b[0mY_fake\u001b[0m \u001b[0;34m=\u001b[0m  \u001b[0mcrear_datos_fake\u001b[0m\u001b[0;34m(\u001b[0m\u001b[0mmodelo_generador\u001b[0m\u001b[0;34m,\u001b[0m\u001b[0mmedio_dataset\u001b[0m\u001b[0;34m)\u001b[0m\u001b[0;34m\u001b[0m\u001b[0;34m\u001b[0m\u001b[0m\n\u001b[1;32m     17\u001b[0m \u001b[0;34m\u001b[0m\u001b[0m\n\u001b[0;32m---> 18\u001b[0;31m       \u001b[0mcoste_discriminador_fake\u001b[0m\u001b[0;34m,\u001b[0m \u001b[0m_\u001b[0m \u001b[0;34m=\u001b[0m \u001b[0mmodelo_discriminador\u001b[0m\u001b[0;34m.\u001b[0m\u001b[0mtrain_on_batch\u001b[0m\u001b[0;34m(\u001b[0m\u001b[0mX_fake\u001b[0m\u001b[0;34m,\u001b[0m \u001b[0mY_fake\u001b[0m\u001b[0;34m)\u001b[0m\u001b[0;34m\u001b[0m\u001b[0;34m\u001b[0m\u001b[0m\n\u001b[0m\u001b[1;32m     19\u001b[0m \u001b[0;34m\u001b[0m\u001b[0m\n\u001b[1;32m     20\u001b[0m       \u001b[0;31m# We generate input images for the GAN\u001b[0m\u001b[0;34m\u001b[0m\u001b[0;34m\u001b[0m\u001b[0;34m\u001b[0m\u001b[0m\n",
            "\u001b[0;32m/usr/local/lib/python3.7/dist-packages/keras/engine/training.py\u001b[0m in \u001b[0;36mtrain_on_batch\u001b[0;34m(self, x, y, sample_weight, class_weight, reset_metrics, return_dict)\u001b[0m\n\u001b[1;32m   2093\u001b[0m       \u001b[0mlogs\u001b[0m \u001b[0;34m=\u001b[0m \u001b[0mself\u001b[0m\u001b[0;34m.\u001b[0m\u001b[0mtrain_function\u001b[0m\u001b[0;34m(\u001b[0m\u001b[0miterator\u001b[0m\u001b[0;34m)\u001b[0m\u001b[0;34m\u001b[0m\u001b[0;34m\u001b[0m\u001b[0m\n\u001b[1;32m   2094\u001b[0m \u001b[0;34m\u001b[0m\u001b[0m\n\u001b[0;32m-> 2095\u001b[0;31m     \u001b[0mlogs\u001b[0m \u001b[0;34m=\u001b[0m \u001b[0mtf_utils\u001b[0m\u001b[0;34m.\u001b[0m\u001b[0msync_to_numpy_or_python_type\u001b[0m\u001b[0;34m(\u001b[0m\u001b[0mlogs\u001b[0m\u001b[0;34m)\u001b[0m\u001b[0;34m\u001b[0m\u001b[0;34m\u001b[0m\u001b[0m\n\u001b[0m\u001b[1;32m   2096\u001b[0m     \u001b[0;32mif\u001b[0m \u001b[0mreturn_dict\u001b[0m\u001b[0;34m:\u001b[0m\u001b[0;34m\u001b[0m\u001b[0;34m\u001b[0m\u001b[0m\n\u001b[1;32m   2097\u001b[0m       \u001b[0;32mreturn\u001b[0m \u001b[0mlogs\u001b[0m\u001b[0;34m\u001b[0m\u001b[0;34m\u001b[0m\u001b[0m\n",
            "\u001b[0;32m/usr/local/lib/python3.7/dist-packages/keras/utils/tf_utils.py\u001b[0m in \u001b[0;36msync_to_numpy_or_python_type\u001b[0;34m(tensors)\u001b[0m\n\u001b[1;32m    561\u001b[0m     \u001b[0;32mreturn\u001b[0m \u001b[0mt\u001b[0m\u001b[0;34m.\u001b[0m\u001b[0mitem\u001b[0m\u001b[0;34m(\u001b[0m\u001b[0;34m)\u001b[0m \u001b[0;32mif\u001b[0m \u001b[0mnp\u001b[0m\u001b[0;34m.\u001b[0m\u001b[0mndim\u001b[0m\u001b[0;34m(\u001b[0m\u001b[0mt\u001b[0m\u001b[0;34m)\u001b[0m \u001b[0;34m==\u001b[0m \u001b[0;36m0\u001b[0m \u001b[0;32melse\u001b[0m \u001b[0mt\u001b[0m\u001b[0;34m\u001b[0m\u001b[0;34m\u001b[0m\u001b[0m\n\u001b[1;32m    562\u001b[0m \u001b[0;34m\u001b[0m\u001b[0m\n\u001b[0;32m--> 563\u001b[0;31m   \u001b[0;32mreturn\u001b[0m \u001b[0mtf\u001b[0m\u001b[0;34m.\u001b[0m\u001b[0mnest\u001b[0m\u001b[0;34m.\u001b[0m\u001b[0mmap_structure\u001b[0m\u001b[0;34m(\u001b[0m\u001b[0m_to_single_numpy_or_python_type\u001b[0m\u001b[0;34m,\u001b[0m \u001b[0mtensors\u001b[0m\u001b[0;34m)\u001b[0m\u001b[0;34m\u001b[0m\u001b[0;34m\u001b[0m\u001b[0m\n\u001b[0m\u001b[1;32m    564\u001b[0m \u001b[0;34m\u001b[0m\u001b[0m\n\u001b[1;32m    565\u001b[0m \u001b[0;34m\u001b[0m\u001b[0m\n",
            "\u001b[0;32m/usr/local/lib/python3.7/dist-packages/tensorflow/python/util/nest.py\u001b[0m in \u001b[0;36mmap_structure\u001b[0;34m(func, *structure, **kwargs)\u001b[0m\n\u001b[1;32m    913\u001b[0m   return pack_sequence_as(\n\u001b[1;32m    914\u001b[0m       \u001b[0mstructure\u001b[0m\u001b[0;34m[\u001b[0m\u001b[0;36m0\u001b[0m\u001b[0;34m]\u001b[0m\u001b[0;34m,\u001b[0m \u001b[0;34m[\u001b[0m\u001b[0mfunc\u001b[0m\u001b[0;34m(\u001b[0m\u001b[0;34m*\u001b[0m\u001b[0mx\u001b[0m\u001b[0;34m)\u001b[0m \u001b[0;32mfor\u001b[0m \u001b[0mx\u001b[0m \u001b[0;32min\u001b[0m \u001b[0mentries\u001b[0m\u001b[0;34m]\u001b[0m\u001b[0;34m,\u001b[0m\u001b[0;34m\u001b[0m\u001b[0;34m\u001b[0m\u001b[0m\n\u001b[0;32m--> 915\u001b[0;31m       expand_composites=expand_composites)\n\u001b[0m\u001b[1;32m    916\u001b[0m \u001b[0;34m\u001b[0m\u001b[0m\n\u001b[1;32m    917\u001b[0m \u001b[0;34m\u001b[0m\u001b[0m\n",
            "\u001b[0;32m/usr/local/lib/python3.7/dist-packages/tensorflow/python/util/nest.py\u001b[0m in \u001b[0;36mpack_sequence_as\u001b[0;34m(structure, flat_sequence, expand_composites)\u001b[0m\n\u001b[1;32m    801\u001b[0m     \u001b[0mTypeError\u001b[0m\u001b[0;34m:\u001b[0m\u001b[0;31m \u001b[0m\u001b[0;31m`\u001b[0m\u001b[0mstructure\u001b[0m\u001b[0;31m`\u001b[0m \u001b[0;32mis\u001b[0m \u001b[0;32mor\u001b[0m \u001b[0mcontains\u001b[0m \u001b[0ma\u001b[0m \u001b[0mdict\u001b[0m \u001b[0;32mwith\u001b[0m \u001b[0mnon\u001b[0m\u001b[0;34m-\u001b[0m\u001b[0msortable\u001b[0m \u001b[0mkeys\u001b[0m\u001b[0;34m.\u001b[0m\u001b[0;34m\u001b[0m\u001b[0;34m\u001b[0m\u001b[0m\n\u001b[1;32m    802\u001b[0m   \"\"\"\n\u001b[0;32m--> 803\u001b[0;31m   \u001b[0;32mreturn\u001b[0m \u001b[0m_pack_sequence_as\u001b[0m\u001b[0;34m(\u001b[0m\u001b[0mstructure\u001b[0m\u001b[0;34m,\u001b[0m \u001b[0mflat_sequence\u001b[0m\u001b[0;34m,\u001b[0m \u001b[0mexpand_composites\u001b[0m\u001b[0;34m)\u001b[0m\u001b[0;34m\u001b[0m\u001b[0;34m\u001b[0m\u001b[0m\n\u001b[0m\u001b[1;32m    804\u001b[0m \u001b[0;34m\u001b[0m\u001b[0m\n\u001b[1;32m    805\u001b[0m \u001b[0;34m\u001b[0m\u001b[0m\n",
            "\u001b[0;32m/usr/local/lib/python3.7/dist-packages/tensorflow/python/util/nest.py\u001b[0m in \u001b[0;36m_pack_sequence_as\u001b[0;34m(structure, flat_sequence, expand_composites, sequence_fn)\u001b[0m\n\u001b[1;32m    650\u001b[0m                       sequence_fn=None):\n\u001b[1;32m    651\u001b[0m   \u001b[0;34m\"\"\"Implements sequence packing, with the option to alter the structure.\"\"\"\u001b[0m\u001b[0;34m\u001b[0m\u001b[0;34m\u001b[0m\u001b[0m\n\u001b[0;32m--> 652\u001b[0;31m   \u001b[0mis_nested_fn\u001b[0m \u001b[0;34m=\u001b[0m \u001b[0m_is_nested_or_composite\u001b[0m \u001b[0;32mif\u001b[0m \u001b[0mexpand_composites\u001b[0m \u001b[0;32melse\u001b[0m \u001b[0m_is_nested\u001b[0m\u001b[0;34m\u001b[0m\u001b[0;34m\u001b[0m\u001b[0m\n\u001b[0m\u001b[1;32m    653\u001b[0m   \u001b[0msequence_fn\u001b[0m \u001b[0;34m=\u001b[0m \u001b[0msequence_fn\u001b[0m \u001b[0;32mor\u001b[0m \u001b[0m_sequence_like\u001b[0m\u001b[0;34m\u001b[0m\u001b[0;34m\u001b[0m\u001b[0m\n\u001b[1;32m    654\u001b[0m   \u001b[0;32mdef\u001b[0m \u001b[0mtruncate\u001b[0m\u001b[0;34m(\u001b[0m\u001b[0mvalue\u001b[0m\u001b[0;34m,\u001b[0m \u001b[0mlength\u001b[0m\u001b[0;34m)\u001b[0m\u001b[0;34m:\u001b[0m\u001b[0;34m\u001b[0m\u001b[0;34m\u001b[0m\u001b[0m\n",
            "\u001b[0;31mKeyboardInterrupt\u001b[0m: "
          ]
        }
      ],
      "source": [
        "entrenamiento(dataset, modelo_generador, modelo_discriminador, epochs = 300, n_batch=128, inicio = 0)"
      ]
    },
    {
      "cell_type": "code",
      "execution_count": null,
      "metadata": {
        "id": "lvy3L0IYLfdR",
        "colab": {
          "base_uri": "https://localhost:8080/",
          "height": 248
        },
        "outputId": "5aa26b7a-b733-43fb-d704-e0e48ffb9228"
      },
      "outputs": [
        {
          "output_type": "display_data",
          "data": {
            "text/plain": [
              "<Figure size 432x288 with 49 Axes>"
            ],
            "image/png": "[encoded data removed]"
          },
          "metadata": {
            "needs_background": "light"
          }
        }
      ],
      "source": [
        "X_fake, _ = crear_datos_fake(n_muestras=49, modelo_generador=modelo_generador)\n",
        "X_fake = (X_fake+1)/2\n",
        "\n",
        "for i in range(49):\n",
        "  plt.subplot(7,7,i+1)\n",
        "  plt.axis('off')\n",
        "  plt.imshow(X_fake[i])"
      ]
    },
    {
      "cell_type": "code",
      "execution_count": null,
      "metadata": {
        "id": "ySVCjM1LLxob"
      },
      "outputs": [],
      "source": []
    }
  ],
  "metadata": {
    "accelerator": "GPU",
    "colab": {
      "provenance": [],
      "authorship_tag": "ABX9TyMEldUQGEU1hVt/TUmBWsJP",
      "include_colab_link": true
    },
    "gpuClass": "standard",
    "kernelspec": {
      "display_name": "Python 3",
      "name": "python3"
    },
    "language_info": {
      "name": "python"
    }
  },
  "nbformat": 4,
  "nbformat_minor": 0
}